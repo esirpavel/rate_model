{
 "cells": [
  {
   "cell_type": "code",
   "execution_count": 1,
   "metadata": {},
   "outputs": [],
   "source": [
    "%matplotlib qt\n",
    "import numpy as np\n",
    "import matplotlib.pylab as pl\n",
    "import rate_model as rm\n",
    "import matplotlib\n",
    "import ipywidgets as ipw\n",
    "from rate_model.params import *"
   ]
  },
  {
   "cell_type": "code",
   "execution_count": 2,
   "metadata": {},
   "outputs": [],
   "source": [
    "params = params_dict_burst.copy()\n",
    "cmap_max_firing_rate = 300."
   ]
  },
  {
   "cell_type": "code",
   "execution_count": 3,
   "metadata": {},
   "outputs": [],
   "source": [
    "params_updated = {\n",
    "    'eps': 0.5,\n",
    "}\n",
    "params.update(params_updated)"
   ]
  },
  {
   "cell_type": "code",
   "execution_count": 4,
   "metadata": {},
   "outputs": [],
   "source": [
    "sim_params = {\n",
    "    'sim_time': 15.,\n",
    "    'dt': 0.001,\n",
    "    'sampl_dt': 0.002,\n",
    "    'N': 90\n",
    "}"
   ]
  },
  {
   "cell_type": "code",
   "execution_count": 5,
   "metadata": {},
   "outputs": [],
   "source": [
    "noise_params = {\n",
    "    'D': 0.0,\n",
    "    'tau_n': 0.1,\n",
    "    'seed': 0\n",
    "}"
   ]
  },
  {
   "cell_type": "code",
   "execution_count": 6,
   "metadata": {},
   "outputs": [],
   "source": [
    "stim = {\n",
    "    'stim_start': [.0],\n",
    "    'stim_duration': [.05],\n",
    "    'stim_ampl': [390.0],\n",
    "    'stim_pos': [0.0],\n",
    "    'stim_width': [1/2.2],\n",
    "    'stim_type': ['trunc_cos']\n",
    "}"
   ]
  },
  {
   "cell_type": "code",
   "execution_count": 11,
   "metadata": {},
   "outputs": [],
   "source": [
    "def run_wrapper(**kwargs):\n",
    "    new_params = params.copy()\n",
    "    \n",
    "    new_params.update(sim_params)\n",
    "    new_params.update(kwargs)\n",
    "    \n",
    "    net = rm.RateNetwork.init_all_params(**new_params)\n",
    "    net.set_initial_values()\n",
    "    net.set_stimuli(**stim)\n",
    "    net.set_noise_params(**noise_params)\n",
    "    \n",
    "    net.simulate_facil(backend = 'c')\n",
    "    print(new_params)\n",
    "    \n",
    "    net.plot_simul((16, 12))\n",
    "#     pl.plot(net.tm, np.degrees(net.get_angle(net.ActRE)), lw=0.5, c='C1')\n",
    "#     pl.subplots_adjust(left = 0.110, right = 1., top = 0.93, bottom = 0.1)\n",
    "    pl.show()\n",
    "    pl.clim((0, cmap_max_firing_rate))"
   ]
  },
  {
   "cell_type": "code",
   "execution_count": 12,
   "metadata": {},
   "outputs": [],
   "source": [
    "apar = {'layout': ipw.Layout(width='80%'), 'continuous_update': False}"
   ]
  },
  {
   "cell_type": "code",
   "execution_count": 13,
   "metadata": {},
   "outputs": [],
   "source": [
    "kwargs = {\n",
    "    'U': ipw.FloatSlider(params['U'], min=0.01, max=1, step=0.01, **apar),\n",
    "    'I0': ipw.FloatSlider(params['I0'], min=-10, max=10, step=0.02, **apar), \n",
    "    'J0': ipw.FloatSlider(params['J0'], min=-30, max=30, step=1, **apar),\n",
    "    'J1': ipw.FloatSlider(params['J1'], min=0, max=100, step=1, **apar),\n",
    "    'J_EI': ipw.FloatSlider(params['J_EI'], min=0, max=20, step=1, **apar),\n",
    "}"
   ]
  },
  {
   "cell_type": "code",
   "execution_count": 14,
   "metadata": {
    "scrolled": false
   },
   "outputs": [
    {
     "data": {
      "application/vnd.jupyter.widget-view+json": {
       "model_id": "0a97517f6b5d4f46b676e8b7b956522a",
       "version_major": 2,
       "version_minor": 0
      },
      "text/plain": [
       "interactive(children=(FloatSlider(value=0.3, continuous_update=False, description='U', layout=Layout(width='80…"
      ]
     },
     "metadata": {},
     "output_type": "display_data"
    }
   ],
   "source": [
    "ipw.interactive(run_wrapper, **kwargs)"
   ]
  },
  {
   "cell_type": "code",
   "execution_count": null,
   "metadata": {},
   "outputs": [],
   "source": []
  }
 ],
 "metadata": {
  "kernelspec": {
   "display_name": "Python 3",
   "language": "python",
   "name": "python3"
  },
  "language_info": {
   "codemirror_mode": {
    "name": "ipython",
    "version": 3
   },
   "file_extension": ".py",
   "mimetype": "text/x-python",
   "name": "python",
   "nbconvert_exporter": "python",
   "pygments_lexer": "ipython3",
   "version": "3.7.3"
  }
 },
 "nbformat": 4,
 "nbformat_minor": 2
}
