{
 "cells": [
  {
   "cell_type": "code",
   "execution_count": 1,
   "metadata": {},
   "outputs": [],
   "source": [
    "%matplotlib inline\n",
    "import matplotlib.pyplot as pl\n",
    "import numpy as np\n",
    "import rate_model as rm"
   ]
  },
  {
   "cell_type": "code",
   "execution_count": 2,
   "metadata": {},
   "outputs": [],
   "source": [
    "params_dict_burst = {\n",
    "    # main params\n",
    "    'sim_time': 3.,\n",
    "    'dt': 0.001,\n",
    "    'sampl_dt': 0.01,\n",
    "    'N': 90,\n",
    "\n",
    "    'J0': -1.*2*np.pi,\n",
    "    'J1': 12.*2*np.pi,\n",
    "    'J_EI': 1.9,\n",
    "    'J_IE': 1.8*2*np.pi,\n",
    "    'eps': 2.,\n",
    "    'conn_width': 1/2.2,\n",
    "    'conn_type' : 'trunc_cos',\n",
    "    'seed': 0,\n",
    "\n",
    "    'U': 0.3,\n",
    "    'I0': -0.1,\n",
    "    'tau_d': 0.3,\n",
    "    'tau_f': 4.0,\n",
    "    'tau': 0.01,\n",
    "    'alpha': 1.5,\n",
    "}"
   ]
  },
  {
   "cell_type": "code",
   "execution_count": 3,
   "metadata": {},
   "outputs": [],
   "source": [
    "stim_burst = {\n",
    "    'stim_start': [.0],\n",
    "    'stim_duration': [.05],\n",
    "    'stim_ampl': [390.0],\n",
    "    'stim_pos': [30.0],\n",
    "    'stim_width': [1/2.2],\n",
    "    'stim_type': ['trunc_cos']\n",
    "}"
   ]
  },
  {
   "cell_type": "code",
   "execution_count": 4,
   "metadata": {},
   "outputs": [],
   "source": [
    "angles = np.arange(-160.1, 179, 2)\n",
    "speeds = np.zeros_like(angles)\n",
    "\n",
    "rate_network = rm.RateNetwork.init_all_params(**params_dict_burst)\n",
    "for i, st_pos in enumerate(angles):\n",
    "    stim_burst['stim_pos'] = [st_pos]\n",
    "    rate_network.set_initial_values()\n",
    "    rate_network.set_stimuli(**stim_burst)\n",
    "\n",
    "    rate_network.simulate_facil(backend = 'c')\n",
    "    \n",
    "    speeds[i] = rate_network.get_angle(rate_network.ActU[-1]) - rate_network.get_angle(rate_network.ActU[3])\n",
    "    speeds[i] = np.degrees(speeds[i])\n",
    "    speeds[i] /= params_dict_burst['sim_time']"
   ]
  },
  {
   "cell_type": "code",
   "execution_count": 5,
   "metadata": {},
   "outputs": [
    {
     "name": "stdout",
     "output_type": "stream",
     "text": [
      "1.2611616421616578\n"
     ]
    },
    {
     "data": {
      "image/png": "[encoded data removed]",
      "text/plain": [
       "<Figure size 432x288 with 1 Axes>"
      ]
     },
     "metadata": {
      "needs_background": "light"
     },
     "output_type": "display_data"
    }
   ],
   "source": [
    "print(np.mean(np.abs(speeds)))\n",
    "pl.plot(speeds, angles, '-o')\n",
    "pl.xlabel('$V_{drift}$')\n",
    "pl.ylabel('$\\\\theta $')\n",
    "pl.vlines(0, -180, 180, 'C3');"
   ]
  }
 ],
 "metadata": {
  "kernelspec": {
   "display_name": "Python 3",
   "language": "python",
   "name": "python3"
  },
  "language_info": {
   "codemirror_mode": {
    "name": "ipython",
    "version": 3
   },
   "file_extension": ".py",
   "mimetype": "text/x-python",
   "name": "python",
   "nbconvert_exporter": "python",
   "pygments_lexer": "ipython3",
   "version": "3.7.2"
  }
 },
 "nbformat": 4,
 "nbformat_minor": 2
}
